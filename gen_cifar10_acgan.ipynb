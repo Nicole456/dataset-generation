{
 "cells": [
  {
   "cell_type": "code",
   "execution_count": 6,
   "metadata": {},
   "outputs": [
    {
     "name": "stdout",
     "output_type": "stream",
     "text": [
      "cuda\n"
     ]
    }
   ],
   "source": [
    "import torch\n",
    "from torch.autograd import Variable\n",
    "from model.acgan import _netG_CIFAR10\n",
    "import os\n",
    "import torchvision\n",
    "import argparse\n",
    "\n",
    "os.environ['CUDA_VISIBLE_DEVICES'] = '0,1,2,3'\n",
    "\n",
    "device = torch.device('cuda' if torch.cuda.is_available() else 'cpu')\n",
    "print(device)"
   ]
  },
  {
   "cell_type": "code",
   "execution_count": 4,
   "metadata": {},
   "outputs": [],
   "source": [
    "DATA = 'CIFAR'  # Choices: ['CIFAR', 'ImageNet', 'RestrictedImageNet']\n",
    "WORKERS=2\n",
    "\n",
    "batch_size=100 #应设置batchsize大小，使数据集大小为其倍数\n",
    "\n",
    "n_gpu=4\n",
    "data_root='/data/zyh/data/'\n",
    "out_dir='./output/acgan/'\n",
    "netG='./output/acgan/model/train_time:3/netG_epoch_200.pth'\n",
    "gen_time=5\n",
    "save_path='./output/acgan/gen_time:{}/'\n",
    "\n",
    "nz=100"
   ]
  },
  {
   "cell_type": "code",
   "execution_count": 4,
   "metadata": {},
   "outputs": [
    {
     "name": "stdout",
     "output_type": "stream",
     "text": [
      "cuda\n"
     ]
    }
   ],
   "source": [
    "device = torch.device('cuda' if torch.cuda.is_available() else 'cpu')\n",
    "print(device)"
   ]
  },
  {
   "cell_type": "code",
   "execution_count": 5,
   "metadata": {},
   "outputs": [],
   "source": [
    "save_path = save_path.format(gen_time)\n",
    "\n",
    "if not os.path.exists(save_path):\n",
    "    os.mkdir(save_path)\n",
    "    for i in range(10):\n",
    "        os.mkdir(os.path.join(save_path, str(i)))"
   ]
  },
  {
   "cell_type": "code",
   "execution_count": 5,
   "metadata": {},
   "outputs": [],
   "source": [
    "noise = torch.FloatTensor(batch_size, nz).cuda()\n",
    "noise = Variable(noise)\n",
    "labels = torch.arange(0, 10, dtype=torch.long, device=device)"
   ]
  },
  {
   "cell_type": "code",
   "execution_count": 7,
   "metadata": {},
   "outputs": [
    {
     "data": {
      "text/plain": [
       "_netG_CIFAR10(\n",
       "  (fc1): Linear(in_features=100, out_features=384, bias=True)\n",
       "  (tconv2): Sequential(\n",
       "    (0): ConvTranspose2d(384, 192, kernel_size=(4, 4), stride=(1, 1), bias=False)\n",
       "    (1): BatchNorm2d(192, eps=1e-05, momentum=0.1, affine=True, track_running_stats=True)\n",
       "    (2): ReLU(inplace=True)\n",
       "  )\n",
       "  (tconv3): Sequential(\n",
       "    (0): ConvTranspose2d(192, 96, kernel_size=(4, 4), stride=(2, 2), padding=(1, 1), bias=False)\n",
       "    (1): BatchNorm2d(96, eps=1e-05, momentum=0.1, affine=True, track_running_stats=True)\n",
       "    (2): ReLU(inplace=True)\n",
       "  )\n",
       "  (tconv4): Sequential(\n",
       "    (0): ConvTranspose2d(96, 48, kernel_size=(4, 4), stride=(2, 2), padding=(1, 1), bias=False)\n",
       "    (1): BatchNorm2d(48, eps=1e-05, momentum=0.1, affine=True, track_running_stats=True)\n",
       "    (2): ReLU(inplace=True)\n",
       "  )\n",
       "  (tconv5): Sequential(\n",
       "    (0): ConvTranspose2d(48, 3, kernel_size=(4, 4), stride=(2, 2), padding=(1, 1), bias=False)\n",
       "    (1): Tanh()\n",
       "  )\n",
       "  (embedding): Embedding(10, 100)\n",
       ")"
      ]
     },
     "execution_count": 7,
     "metadata": {},
     "output_type": "execute_result"
    }
   ],
   "source": [
    "generator = _netG_CIFAR10(n_gpu, nz)\n",
    "generator.load_state_dict(torch.load(netG))\n",
    "generator.cuda()"
   ]
  },
  {
   "cell_type": "code",
   "execution_count": null,
   "metadata": {},
   "outputs": [],
   "source": [
    "for k in range(5000):\n",
    "    noise = noise.normal_(0, 1)\n",
    "    images = generator(noise.cuda(), labels)\n",
    "    images = images / 2 +  0.5\n",
    "    for i in range(0, 10):\n",
    "        torchvision.utils.save_image(images[i], os.path.join(save_path, str(i), str(k) + '.png'))"
   ]
  },
  {
   "cell_type": "markdown",
   "metadata": {},
   "source": [
    "# show imgs"
   ]
  },
  {
   "cell_type": "code",
   "execution_count": 1,
   "metadata": {},
   "outputs": [
    {
     "name": "stdout",
     "output_type": "stream",
     "text": [
      "cuda\n"
     ]
    }
   ],
   "source": [
    "import torch\n",
    "from torch.autograd import Variable\n",
    "from model.acgan import _netG_CIFAR10\n",
    "import os\n",
    "import torchvision\n",
    "import argparse\n",
    "\n",
    "os.environ['CUDA_VISIBLE_DEVICES'] = '0,1,2,3'\n",
    "\n",
    "device = torch.device('cuda' if torch.cuda.is_available() else 'cpu')\n",
    "print(device)\n",
    "from robustness.tools.vis_tools import show_image_row, show_image_column\n",
    "%matplotlib inline"
   ]
  },
  {
   "cell_type": "code",
   "execution_count": 2,
   "metadata": {},
   "outputs": [],
   "source": [
    "DATA = 'CIFAR'  # Choices: ['CIFAR', 'ImageNet', 'RestrictedImageNet']\n",
    "WORKERS=2\n",
    "\n",
    "batch_size=10 #应设置batchsize大小，使数据集大小为其倍数\n",
    "netG='./output/acgan/model/train_time:3/netG_epoch_200.pth'\n",
    "\n",
    "n_gpu=4\n",
    "nz=100"
   ]
  },
  {
   "cell_type": "code",
   "execution_count": 3,
   "metadata": {
    "collapsed": true
   },
   "outputs": [
    {
     "data": {
      "text/plain": [
       "_netG_CIFAR10(\n",
       "  (fc1): Linear(in_features=100, out_features=384, bias=True)\n",
       "  (tconv2): Sequential(\n",
       "    (0): ConvTranspose2d(384, 192, kernel_size=(4, 4), stride=(1, 1), bias=False)\n",
       "    (1): BatchNorm2d(192, eps=1e-05, momentum=0.1, affine=True, track_running_stats=True)\n",
       "    (2): ReLU(inplace=True)\n",
       "  )\n",
       "  (tconv3): Sequential(\n",
       "    (0): ConvTranspose2d(192, 96, kernel_size=(4, 4), stride=(2, 2), padding=(1, 1), bias=False)\n",
       "    (1): BatchNorm2d(96, eps=1e-05, momentum=0.1, affine=True, track_running_stats=True)\n",
       "    (2): ReLU(inplace=True)\n",
       "  )\n",
       "  (tconv4): Sequential(\n",
       "    (0): ConvTranspose2d(96, 48, kernel_size=(4, 4), stride=(2, 2), padding=(1, 1), bias=False)\n",
       "    (1): BatchNorm2d(48, eps=1e-05, momentum=0.1, affine=True, track_running_stats=True)\n",
       "    (2): ReLU(inplace=True)\n",
       "  )\n",
       "  (tconv5): Sequential(\n",
       "    (0): ConvTranspose2d(48, 3, kernel_size=(4, 4), stride=(2, 2), padding=(1, 1), bias=False)\n",
       "    (1): Tanh()\n",
       "  )\n",
       "  (embedding): Embedding(10, 100)\n",
       ")"
      ]
     },
     "execution_count": 3,
     "metadata": {},
     "output_type": "execute_result"
    }
   ],
   "source": [
    "generator = _netG_CIFAR10(n_gpu, nz)\n",
    "generator.load_state_dict(torch.load(netG))\n",
    "generator.cuda()"
   ]
  },
  {
   "cell_type": "code",
   "execution_count": 4,
   "metadata": {},
   "outputs": [],
   "source": [
    "noise = torch.FloatTensor(batch_size, nz)\n",
    "noise = Variable(noise)\n",
    "labels = torch.arange(0, 10, dtype=torch.long, device=device)"
   ]
  },
  {
   "cell_type": "code",
   "execution_count": 5,
   "metadata": {},
   "outputs": [
    {
     "data": {
      "text/plain": [
       "torch.Size([10, 100])"
      ]
     },
     "execution_count": 5,
     "metadata": {},
     "output_type": "execute_result"
    }
   ],
   "source": [
    "noise.shape"
   ]
  },
  {
   "cell_type": "code",
   "execution_count": 6,
   "metadata": {},
   "outputs": [
    {
     "name": "stderr",
     "output_type": "stream",
     "text": [
      "/home/fhz_11821062/jupyternbook/zyh/dataset-generation/model/acgan.py:185: UserWarning: To copy construct from a tensor, it is recommended to use sourceTensor.clone().detach() or sourceTensor.clone().detach().requires_grad_(True), rather than torch.tensor(sourceTensor).\n",
      "  label_embedding = self.embedding(torch.tensor(label).cuda())\n"
     ]
    }
   ],
   "source": [
    "noise = noise.normal_(0, 1)\n",
    "images = generator(noise.cuda(), labels)\n",
    "images = images / 2 +  0.5"
   ]
  },
  {
   "cell_type": "code",
   "execution_count": 7,
   "metadata": {},
   "outputs": [
    {
     "data": {
      "image/png": "[encoded data removed]",
      "text/plain": [
       "<Figure size 1800x180 with 10 Axes>"
      ]
     },
     "metadata": {},
     "output_type": "display_data"
    }
   ],
   "source": [
    "# Visualize inversion\n",
    "show_image_row([ images.detach().cpu()], \n",
    "               [ \"Result\"], \n",
    "               fontsize=22)"
   ]
  },
  {
   "cell_type": "code",
   "execution_count": null,
   "metadata": {},
   "outputs": [],
   "source": []
  }
 ],
 "metadata": {
  "kernelspec": {
   "display_name": "Python [conda env:root] *",
   "language": "python",
   "name": "conda-root-py"
  },
  "language_info": {
   "codemirror_mode": {
    "name": "ipython",
    "version": 3
   },
   "file_extension": ".py",
   "mimetype": "text/x-python",
   "name": "python",
   "nbconvert_exporter": "python",
   "pygments_lexer": "ipython3",
   "version": "3.7.4"
  }
 },
 "nbformat": 4,
 "nbformat_minor": 4
}
